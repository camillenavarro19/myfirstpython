{
  "cells": [
    {
      "metadata": {
        "trusted": true
      },
      "cell_type": "code",
      "source": "x=2\nprint(x)",
      "execution_count": 1,
      "outputs": [
        {
          "output_type": "stream",
          "text": "2\n",
          "name": "stdout"
        }
      ]
    },
    {
      "metadata": {
        "trusted": true
      },
      "cell_type": "code",
      "source": "var1 = False \nprint(var1)",
      "execution_count": 2,
      "outputs": [
        {
          "output_type": "stream",
          "text": "False\n",
          "name": "stdout"
        }
      ]
    },
    {
      "metadata": {
        "trusted": true
      },
      "cell_type": "code",
      "source": "integer = (999)\nprint(integer)\nfloat = (8.99)\nprint(float)",
      "execution_count": 15,
      "outputs": [
        {
          "output_type": "stream",
          "text": "999\n8.99\n",
          "name": "stdout"
        }
      ]
    },
    {
      "metadata": {
        "trusted": true
      },
      "cell_type": "code",
      "source": "string1 = \"Howard Bison\"\nstring2 = 'Howard Bison' + str(x)\nprint(string1)\nprint(string2)",
      "execution_count": 4,
      "outputs": [
        {
          "output_type": "stream",
          "text": "Howard Bison\nHoward Bison2\n",
          "name": "stdout"
        }
      ]
    },
    {
      "metadata": {
        "trusted": true
      },
      "cell_type": "code",
      "source": "x = \"9/10/2019\"\nstring1 = \"todays_date\"\nstring2 = \"todays_date\" + str(x)\nprint(x)",
      "execution_count": 8,
      "outputs": [
        {
          "output_type": "stream",
          "text": "9/10/2019\n",
          "name": "stdout"
        }
      ]
    },
    {
      "metadata": {
        "trusted": true
      },
      "cell_type": "code",
      "source": "todays_date = \"9/10/2019\"\nprint(todays_date)",
      "execution_count": 9,
      "outputs": [
        {
          "output_type": "stream",
          "text": "9/10/2019\n",
          "name": "stdout"
        }
      ]
    },
    {
      "metadata": {
        "trusted": true
      },
      "cell_type": "code",
      "source": "a_list = ['a','b','c']\nprint(a_list)",
      "execution_count": 10,
      "outputs": [
        {
          "output_type": "stream",
          "text": "['a', 'b', 'c']\n",
          "name": "stdout"
        }
      ]
    },
    {
      "metadata": {
        "trusted": true
      },
      "cell_type": "code",
      "source": "food_list = ('fried rice, spaghetti, chocolate cake, cookie dough ice cream, grilled cheese')\nprint(food_list)",
      "execution_count": 13,
      "outputs": [
        {
          "output_type": "stream",
          "text": "fried rice, spaghetti, chocolate cake, cookie dough ice cream, grilled cheese\n",
          "name": "stdout"
        }
      ]
    },
    {
      "metadata": {
        "trusted": true
      },
      "cell_type": "code",
      "source": "artist = {'first_name : Beyonce, last_name : Knowles'}\nprint(artist)\n",
      "execution_count": 14,
      "outputs": [
        {
          "output_type": "stream",
          "text": "{'first_name : Beyonce, last_name : Knowles'}\n",
          "name": "stdout"
        }
      ]
    },
    {
      "metadata": {
        "trusted": true
      },
      "cell_type": "code",
      "source": "",
      "execution_count": null,
      "outputs": []
    }
  ],
  "metadata": {
    "kernelspec": {
      "name": "python36",
      "display_name": "Python 3.6",
      "language": "python"
    },
    "language_info": {
      "mimetype": "text/x-python",
      "nbconvert_exporter": "python",
      "name": "python",
      "pygments_lexer": "ipython3",
      "version": "3.6.6",
      "file_extension": ".py",
      "codemirror_mode": {
        "version": 3,
        "name": "ipython"
      }
    }
  },
  "nbformat": 4,
  "nbformat_minor": 2
}